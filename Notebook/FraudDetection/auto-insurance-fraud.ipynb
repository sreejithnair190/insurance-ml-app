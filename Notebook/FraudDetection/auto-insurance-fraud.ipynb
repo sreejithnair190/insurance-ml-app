{
 "cells": [
  {
   "cell_type": "code",
   "execution_count": 2,
   "metadata": {
    "execution": {
     "iopub.execute_input": "2020-08-27T14:32:23.604206Z",
     "iopub.status.busy": "2020-08-27T14:32:23.603456Z",
     "iopub.status.idle": "2020-08-27T14:32:32.302440Z",
     "shell.execute_reply": "2020-08-27T14:32:32.302997Z"
    },
    "id": "s4ff27IizGyS",
    "outputId": "b975688d-0c3d-4dab-a02c-81e52dc7ab5d",
    "papermill": {
     "duration": 8.732166,
     "end_time": "2020-08-27T14:32:32.303176",
     "exception": false,
     "start_time": "2020-08-27T14:32:23.571010",
     "status": "completed"
    },
    "tags": []
   },
   "outputs": [
    {
     "ename": "ModuleNotFoundError",
     "evalue": "No module named 'imblearn'",
     "output_type": "error",
     "traceback": [
      "\u001b[1;31m---------------------------------------------------------------------------\u001b[0m",
      "\u001b[1;31mModuleNotFoundError\u001b[0m                       Traceback (most recent call last)",
      "\u001b[1;32m<ipython-input-2-d5e0e59acafb>\u001b[0m in \u001b[0;36m<module>\u001b[1;34m\u001b[0m\n\u001b[0;32m     14\u001b[0m \u001b[1;32mfrom\u001b[0m \u001b[0msklearn\u001b[0m\u001b[1;33m.\u001b[0m\u001b[0mmodel_selection\u001b[0m \u001b[1;32mimport\u001b[0m \u001b[0mtrain_test_split\u001b[0m\u001b[1;33m\u001b[0m\u001b[1;33m\u001b[0m\u001b[0m\n\u001b[0;32m     15\u001b[0m \u001b[1;32mfrom\u001b[0m \u001b[0msklearn\u001b[0m\u001b[1;33m.\u001b[0m\u001b[0mlinear_model\u001b[0m \u001b[1;32mimport\u001b[0m \u001b[0mLogisticRegression\u001b[0m\u001b[1;33m\u001b[0m\u001b[1;33m\u001b[0m\u001b[0m\n\u001b[1;32m---> 16\u001b[1;33m \u001b[1;32mfrom\u001b[0m \u001b[0mimblearn\u001b[0m\u001b[1;33m.\u001b[0m\u001b[0mover_sampling\u001b[0m \u001b[1;32mimport\u001b[0m \u001b[0mSMOTE\u001b[0m\u001b[1;33m\u001b[0m\u001b[1;33m\u001b[0m\u001b[0m\n\u001b[0m\u001b[0;32m     17\u001b[0m \u001b[1;32mfrom\u001b[0m \u001b[0mimblearn\u001b[0m\u001b[1;33m.\u001b[0m\u001b[0munder_sampling\u001b[0m \u001b[1;32mimport\u001b[0m \u001b[0mRandomUnderSampler\u001b[0m\u001b[1;33m\u001b[0m\u001b[1;33m\u001b[0m\u001b[0m\n\u001b[0;32m     18\u001b[0m \u001b[1;32mfrom\u001b[0m \u001b[0msklearn\u001b[0m\u001b[1;33m.\u001b[0m\u001b[0mmetrics\u001b[0m \u001b[1;32mimport\u001b[0m \u001b[0mclassification_report\u001b[0m\u001b[1;33m\u001b[0m\u001b[1;33m\u001b[0m\u001b[0m\n",
      "\u001b[1;31mModuleNotFoundError\u001b[0m: No module named 'imblearn'"
     ]
    }
   ],
   "source": [
    "import pandas as pd\n",
    "import numpy as np\n",
    "import datetime as dt\n",
    "\n",
    "#data viz\n",
    "#for better viz\n",
    "import plotly.express as px\n",
    "import plotly.graph_objects as go\n",
    "\n",
    "#for quick viz\n",
    "import seaborn as sns\n",
    "\n",
    "#ml\n",
    "from sklearn.model_selection import train_test_split\n",
    "from sklearn.linear_model import LogisticRegression\n",
    "from imblearn.over_sampling import SMOTE\n",
    "from imblearn.under_sampling import RandomUnderSampler\n",
    "from sklearn.metrics import classification_report\n",
    "from imblearn.pipeline import Pipeline\n",
    "from sklearn.tree import DecisionTreeClassifier\n",
    "from sklearn.metrics import accuracy_score\n",
    "from sklearn.model_selection import GridSearchCV\n",
    "from sklearn.svm import SVC\n"
   ]
  },
  {
   "cell_type": "code",
   "execution_count": null,
   "metadata": {
    "_cell_guid": "79c7e3d0-c299-4dcb-8224-4455121ee9b0",
    "_uuid": "d629ff2d2480ee46fbb7e2d37f6b5fab8052498a",
    "execution": {
     "iopub.execute_input": "2020-08-27T14:32:32.355130Z",
     "iopub.status.busy": "2020-08-27T14:32:32.354459Z",
     "iopub.status.idle": "2020-08-27T14:32:32.421834Z",
     "shell.execute_reply": "2020-08-27T14:32:32.422390Z"
    },
    "id": "agSFJvhozGyY",
    "outputId": "d92bb083-7fc3-49d4-e636-4acf678aec0b",
    "papermill": {
     "duration": 0.0949,
     "end_time": "2020-08-27T14:32:32.422552",
     "exception": false,
     "start_time": "2020-08-27T14:32:32.327652",
     "status": "completed"
    },
    "tags": []
   },
   "outputs": [],
   "source": [
    "df = pd.read_csv('insurance_claims.csv')\n",
    "df.head()"
   ]
  },
  {
   "cell_type": "markdown",
   "metadata": {
    "id": "Z6WPdoBszGyf",
    "papermill": {
     "duration": 0.025589,
     "end_time": "2020-08-27T14:32:32.473539",
     "exception": false,
     "start_time": "2020-08-27T14:32:32.447950",
     "status": "completed"
    },
    "tags": []
   },
   "source": [
    "# EDA and cleaning"
   ]
  },
  {
   "cell_type": "code",
   "execution_count": null,
   "metadata": {
    "execution": {
     "iopub.execute_input": "2020-08-27T14:32:32.526964Z",
     "iopub.status.busy": "2020-08-27T14:32:32.526308Z",
     "iopub.status.idle": "2020-08-27T14:32:32.536894Z",
     "shell.execute_reply": "2020-08-27T14:32:32.537543Z"
    },
    "id": "73TEmm7CzGyg",
    "outputId": "c3756fc0-ff69-4b0c-e210-b6a0b6a5f38c",
    "papermill": {
     "duration": 0.039605,
     "end_time": "2020-08-27T14:32:32.537701",
     "exception": false,
     "start_time": "2020-08-27T14:32:32.498096",
     "status": "completed"
    },
    "tags": []
   },
   "outputs": [],
   "source": [
    "df.isnull().sum()"
   ]
  },
  {
   "cell_type": "markdown",
   "metadata": {
    "id": "ataK7c4pzGyn",
    "papermill": {
     "duration": 0.024695,
     "end_time": "2020-08-27T14:32:32.587615",
     "exception": false,
     "start_time": "2020-08-27T14:32:32.562920",
     "status": "completed"
    },
    "tags": []
   },
   "source": [
    "There are no null values in the dataset."
   ]
  },
  {
   "cell_type": "code",
   "execution_count": null,
   "metadata": {
    "execution": {
     "iopub.execute_input": "2020-08-27T14:32:32.640818Z",
     "iopub.status.busy": "2020-08-27T14:32:32.640146Z",
     "iopub.status.idle": "2020-08-27T14:32:32.652991Z",
     "shell.execute_reply": "2020-08-27T14:32:32.652268Z"
    },
    "id": "LQAvaeP3zGyp",
    "papermill": {
     "duration": 0.040383,
     "end_time": "2020-08-27T14:32:32.653111",
     "exception": false,
     "start_time": "2020-08-27T14:32:32.612728",
     "status": "completed"
    },
    "tags": []
   },
   "outputs": [],
   "source": [
    "# removing column named _c39 as it contains only null values\n",
    "\n",
    "df = df.drop(['_c39'], axis = 1)"
   ]
  },
  {
   "cell_type": "code",
   "execution_count": null,
   "metadata": {
    "execution": {
     "iopub.execute_input": "2020-08-27T14:32:32.718214Z",
     "iopub.status.busy": "2020-08-27T14:32:32.712111Z",
     "iopub.status.idle": "2020-08-27T14:32:32.731631Z",
     "shell.execute_reply": "2020-08-27T14:32:32.732122Z"
    },
    "id": "DqDxKSBjzGyv",
    "outputId": "f08aaf58-ce2d-4b07-8fee-cdb247cc309b",
    "papermill": {
     "duration": 0.054013,
     "end_time": "2020-08-27T14:32:32.732318",
     "exception": false,
     "start_time": "2020-08-27T14:32:32.678305",
     "status": "completed"
    },
    "tags": []
   },
   "outputs": [],
   "source": [
    "df.info()"
   ]
  },
  {
   "cell_type": "markdown",
   "metadata": {
    "id": "pSek7qutzGy1",
    "papermill": {
     "duration": 0.025588,
     "end_time": "2020-08-27T14:32:32.783936",
     "exception": false,
     "start_time": "2020-08-27T14:32:32.758348",
     "status": "completed"
    },
    "tags": []
   },
   "source": [
    "There doesn't seem to be need to change column data types except for `policy_bind_date` which we will convert to `datetime` type"
   ]
  },
  {
   "cell_type": "code",
   "execution_count": null,
   "metadata": {
    "execution": {
     "iopub.execute_input": "2020-08-27T14:32:32.838626Z",
     "iopub.status.busy": "2020-08-27T14:32:32.837837Z",
     "iopub.status.idle": "2020-08-27T14:32:32.845255Z",
     "shell.execute_reply": "2020-08-27T14:32:32.845817Z"
    },
    "id": "3HhLGk0DzGy3",
    "papermill": {
     "duration": 0.036693,
     "end_time": "2020-08-27T14:32:32.845967",
     "exception": false,
     "start_time": "2020-08-27T14:32:32.809274",
     "status": "completed"
    },
    "tags": []
   },
   "outputs": [],
   "source": [
    "df['policy_bind_date'] = pd.to_datetime(df['policy_bind_date'])"
   ]
  },
  {
   "cell_type": "code",
   "execution_count": null,
   "metadata": {
    "execution": {
     "iopub.execute_input": "2020-08-27T14:32:32.900512Z",
     "iopub.status.busy": "2020-08-27T14:32:32.899855Z",
     "iopub.status.idle": "2020-08-27T14:32:32.969242Z",
     "shell.execute_reply": "2020-08-27T14:32:32.969824Z"
    },
    "id": "uxnPEq2QzGy-",
    "outputId": "db0da08c-32aa-4bb1-f709-4a2c9f395cf0",
    "papermill": {
     "duration": 0.098509,
     "end_time": "2020-08-27T14:32:32.969984",
     "exception": false,
     "start_time": "2020-08-27T14:32:32.871475",
     "status": "completed"
    },
    "tags": []
   },
   "outputs": [],
   "source": [
    "df.describe().T"
   ]
  },
  {
   "cell_type": "code",
   "execution_count": null,
   "metadata": {
    "execution": {
     "iopub.execute_input": "2020-08-27T14:32:33.031285Z",
     "iopub.status.busy": "2020-08-27T14:32:33.030203Z",
     "iopub.status.idle": "2020-08-27T14:32:33.049542Z",
     "shell.execute_reply": "2020-08-27T14:32:33.050375Z"
    },
    "id": "OkLLxH36zGzE",
    "outputId": "9a4bc6c9-fd58-4ae1-a532-a401c763b27e",
    "papermill": {
     "duration": 0.054007,
     "end_time": "2020-08-27T14:32:33.050612",
     "exception": false,
     "start_time": "2020-08-27T14:32:32.996605",
     "status": "completed"
    },
    "tags": []
   },
   "outputs": [],
   "source": [
    "for i in df.columns:\n",
    "    if df[i].dtype == 'object':\n",
    "        print(i, \":\", df[i].nunique())"
   ]
  },
  {
   "cell_type": "markdown",
   "metadata": {
    "id": "JD3HjLAKzGzJ",
    "papermill": {
     "duration": 0.026211,
     "end_time": "2020-08-27T14:32:33.103664",
     "exception": false,
     "start_time": "2020-08-27T14:32:33.077453",
     "status": "completed"
    },
    "tags": []
   },
   "source": [
    "We will drop some of the columns: `policy_state', 'policy_csl', 'incident_date', 'incident_state', 'incident_city' and 'incident_location`"
   ]
  },
  {
   "cell_type": "code",
   "execution_count": null,
   "metadata": {
    "execution": {
     "iopub.execute_input": "2020-08-27T14:32:33.166606Z",
     "iopub.status.busy": "2020-08-27T14:32:33.161862Z",
     "iopub.status.idle": "2020-08-27T14:32:33.191286Z",
     "shell.execute_reply": "2020-08-27T14:32:33.190578Z"
    },
    "id": "deEqA0k7zGzK",
    "outputId": "aa80920b-a8a2-4213-988f-aa110679f6f5",
    "papermill": {
     "duration": 0.061893,
     "end_time": "2020-08-27T14:32:33.191407",
     "exception": false,
     "start_time": "2020-08-27T14:32:33.129514",
     "status": "completed"
    },
    "tags": []
   },
   "outputs": [],
   "source": [
    "drop_columns = ['policy_state', 'policy_csl', 'incident_date', 'incident_state', 'incident_city', 'incident_location']\n",
    "df = df.drop(drop_columns, axis = 1)\n",
    "df.head()"
   ]
  },
  {
   "cell_type": "code",
   "execution_count": null,
   "metadata": {
    "execution": {
     "iopub.execute_input": "2020-08-27T14:32:33.253301Z",
     "iopub.status.busy": "2020-08-27T14:32:33.252371Z",
     "iopub.status.idle": "2020-08-27T14:32:33.267904Z",
     "shell.execute_reply": "2020-08-27T14:32:33.266929Z"
    },
    "id": "Mh1A-fbJzGzP",
    "outputId": "caeceb5d-eea9-48f8-d16a-8a317fb89c61",
    "papermill": {
     "duration": 0.049381,
     "end_time": "2020-08-27T14:32:33.268077",
     "exception": false,
     "start_time": "2020-08-27T14:32:33.218696",
     "status": "completed"
    },
    "tags": []
   },
   "outputs": [],
   "source": [
    "for i in df.columns:\n",
    "    if df[i].dtype == 'object':\n",
    "        print(i, \":\", df[i].nunique())"
   ]
  },
  {
   "cell_type": "markdown",
   "metadata": {
    "id": "dZkEOIDkzGzW",
    "papermill": {
     "duration": 0.026005,
     "end_time": "2020-08-27T14:32:33.320495",
     "exception": false,
     "start_time": "2020-08-27T14:32:33.294490",
     "status": "completed"
    },
    "tags": []
   },
   "source": [
    "`fraud_reported` is going to be our target column. We will convert it to 1 and 0."
   ]
  },
  {
   "cell_type": "code",
   "execution_count": null,
   "metadata": {
    "execution": {
     "iopub.execute_input": "2020-08-27T14:32:33.384847Z",
     "iopub.status.busy": "2020-08-27T14:32:33.384050Z",
     "iopub.status.idle": "2020-08-27T14:32:33.387624Z",
     "shell.execute_reply": "2020-08-27T14:32:33.386902Z"
    },
    "id": "V6kRJ2eezGzX",
    "papermill": {
     "duration": 0.040708,
     "end_time": "2020-08-27T14:32:33.387756",
     "exception": false,
     "start_time": "2020-08-27T14:32:33.347048",
     "status": "completed"
    },
    "tags": []
   },
   "outputs": [],
   "source": [
    "df['fraud_reported'] = df['fraud_reported'].str.replace('Y', '1')\n",
    "df['fraud_reported'] = df['fraud_reported'].str.replace('N', '0')\n",
    "df['fraud_reported'] = df['fraud_reported'].astype(int)"
   ]
  },
  {
   "cell_type": "code",
   "execution_count": null,
   "metadata": {
    "execution": {
     "iopub.execute_input": "2020-08-27T14:32:33.448244Z",
     "iopub.status.busy": "2020-08-27T14:32:33.447084Z",
     "iopub.status.idle": "2020-08-27T14:32:33.451946Z",
     "shell.execute_reply": "2020-08-27T14:32:33.451306Z"
    },
    "id": "-5YyiFuozGzc",
    "outputId": "5335bf81-7221-4a15-879d-d03a95a4fdd0",
    "papermill": {
     "duration": 0.037785,
     "end_time": "2020-08-27T14:32:33.452061",
     "exception": false,
     "start_time": "2020-08-27T14:32:33.414276",
     "status": "completed"
    },
    "tags": []
   },
   "outputs": [],
   "source": [
    "df['fraud_reported'].unique()"
   ]
  },
  {
   "cell_type": "markdown",
   "metadata": {
    "id": "iXoU0ukEzGzh",
    "papermill": {
     "duration": 0.026715,
     "end_time": "2020-08-27T14:32:33.506575",
     "exception": false,
     "start_time": "2020-08-27T14:32:33.479860",
     "status": "completed"
    },
    "tags": []
   },
   "source": [
    "`policy_deductable`: In an insurance policy, the deductible is the amount paid out of pocket by the policy holder before an insurance provider will pay any expenses."
   ]
  },
  {
   "cell_type": "code",
   "execution_count": null,
   "metadata": {
    "execution": {
     "iopub.execute_input": "2020-08-27T14:32:33.574633Z",
     "iopub.status.busy": "2020-08-27T14:32:33.566408Z",
     "iopub.status.idle": "2020-08-27T14:32:33.747426Z",
     "shell.execute_reply": "2020-08-27T14:32:33.747915Z"
    },
    "id": "rUlPDx11FwPN",
    "outputId": "4ad69f0a-b9b0-4d9b-a502-971f09e9b81c",
    "papermill": {
     "duration": 0.213514,
     "end_time": "2020-08-27T14:32:33.748083",
     "exception": false,
     "start_time": "2020-08-27T14:32:33.534569",
     "status": "completed"
    },
    "tags": []
   },
   "outputs": [],
   "source": [
    "sns.countplot(df['fraud_reported'])"
   ]
  },
  {
   "cell_type": "markdown",
   "metadata": {
    "id": "JmRMc94FWzvq",
    "papermill": {
     "duration": 0.026866,
     "end_time": "2020-08-27T14:32:33.801822",
     "exception": false,
     "start_time": "2020-08-27T14:32:33.774956",
     "status": "completed"
    },
    "tags": []
   },
   "source": [
    "Our data is very imbalanced."
   ]
  },
  {
   "cell_type": "markdown",
   "metadata": {
    "id": "9wht4-lGXsR8",
    "papermill": {
     "duration": 0.026661,
     "end_time": "2020-08-27T14:32:33.855728",
     "exception": false,
     "start_time": "2020-08-27T14:32:33.829067",
     "status": "completed"
    },
    "tags": []
   },
   "source": [
    "We will visualize the data and see if there is any feature which might influence the claims"
   ]
  },
  {
   "cell_type": "code",
   "execution_count": null,
   "metadata": {
    "execution": {
     "iopub.execute_input": "2020-08-27T14:32:33.925502Z",
     "iopub.status.busy": "2020-08-27T14:32:33.924441Z",
     "iopub.status.idle": "2020-08-27T14:32:33.927387Z",
     "shell.execute_reply": "2020-08-27T14:32:33.927874Z"
    },
    "id": "zMvTI8dtzGzi",
    "papermill": {
     "duration": 0.045075,
     "end_time": "2020-08-27T14:32:33.928026",
     "exception": false,
     "start_time": "2020-08-27T14:32:33.882951",
     "status": "completed"
    },
    "tags": []
   },
   "outputs": [],
   "source": [
    "def vis_data(df, x, y = 'fraud_reported', graph = 'countplot'):\n",
    "    if graph == 'hist':\n",
    "        fig = px.histogram(df, x = x)\n",
    "        fig.update_layout(title = 'Distribution of {x}'.format(x = x))\n",
    "        fig.show()\n",
    "    elif graph == 'bar':\n",
    "      fig = px.bar(df, x = x, y = y)\n",
    "      fig.update_layout(title = '{x} vs. {y}'.format(x = x, y = y))\n",
    "      fig.show()\n",
    "    elif graph == 'countplot':\n",
    "      a = df.groupby([x,y]).count()\n",
    "      a.reset_index(inplace = True)\n",
    "      no_fraud = a[a['fraud_reported'] == 0]\n",
    "      yes_fraud = a[a['fraud_reported'] == 1]\n",
    "      trace1 = go.Bar(x = no_fraud[x], y = no_fraud['policy_number'], name = 'No Fraud')\n",
    "      trace2 = go.Bar(x = yes_fraud[x], y = yes_fraud['policy_number'], name = 'Fraud')\n",
    "      fig = go.Figure(data = [trace1, trace2])\n",
    "      fig.update_layout(title = '{x} vs. {y}'.format(x=x, y = y))\n",
    "      fig.update_layout(barmode = 'group')\n",
    "      fig.show()"
   ]
  },
  {
   "cell_type": "code",
   "execution_count": null,
   "metadata": {
    "execution": {
     "iopub.execute_input": "2020-08-27T14:32:33.990531Z",
     "iopub.status.busy": "2020-08-27T14:32:33.989686Z",
     "iopub.status.idle": "2020-08-27T14:32:34.147083Z",
     "shell.execute_reply": "2020-08-27T14:32:34.147712Z"
    },
    "id": "foErRsL4YkDk",
    "outputId": "9afd2489-f7c9-4fba-82d5-a1bc799047c8",
    "papermill": {
     "duration": 0.192852,
     "end_time": "2020-08-27T14:32:34.147865",
     "exception": false,
     "start_time": "2020-08-27T14:32:33.955013",
     "status": "completed"
    },
    "tags": []
   },
   "outputs": [],
   "source": [
    "vis_data(df, 'insured_sex')"
   ]
  },
  {
   "cell_type": "code",
   "execution_count": null,
   "metadata": {
    "execution": {
     "iopub.execute_input": "2020-08-27T14:32:34.211950Z",
     "iopub.status.busy": "2020-08-27T14:32:34.210938Z",
     "iopub.status.idle": "2020-08-27T14:32:34.230980Z",
     "shell.execute_reply": "2020-08-27T14:32:34.230428Z"
    },
    "id": "LGGwONYhYqPY",
    "outputId": "6d0e723a-74f1-4796-84ae-973c9bf4c71e",
    "papermill": {
     "duration": 0.055135,
     "end_time": "2020-08-27T14:32:34.231108",
     "exception": false,
     "start_time": "2020-08-27T14:32:34.175973",
     "status": "completed"
    },
    "tags": []
   },
   "outputs": [],
   "source": [
    "vis_data(df, 'insured_education_level')"
   ]
  },
  {
   "cell_type": "code",
   "execution_count": null,
   "metadata": {
    "execution": {
     "iopub.execute_input": "2020-08-27T14:32:34.296022Z",
     "iopub.status.busy": "2020-08-27T14:32:34.295030Z",
     "iopub.status.idle": "2020-08-27T14:32:34.315810Z",
     "shell.execute_reply": "2020-08-27T14:32:34.315155Z"
    },
    "id": "beLh7JL1YqLN",
    "outputId": "25db8537-f881-4a08-96d5-197bef25e210",
    "papermill": {
     "duration": 0.056683,
     "end_time": "2020-08-27T14:32:34.315936",
     "exception": false,
     "start_time": "2020-08-27T14:32:34.259253",
     "status": "completed"
    },
    "tags": []
   },
   "outputs": [],
   "source": [
    "vis_data(df, 'insured_occupation')"
   ]
  },
  {
   "cell_type": "markdown",
   "metadata": {
    "id": "LFfJSFS1ZcXK",
    "papermill": {
     "duration": 0.029102,
     "end_time": "2020-08-27T14:32:34.374048",
     "exception": false,
     "start_time": "2020-08-27T14:32:34.344946",
     "status": "completed"
    },
    "tags": []
   },
   "source": [
    "From the data, it looks like people in exec-managerial positions have more number of frauds compared to other occupations.\n",
    "\n",
    "Sales, tech-support and transport moving also have relatively high cases of fraud."
   ]
  },
  {
   "cell_type": "code",
   "execution_count": null,
   "metadata": {
    "execution": {
     "iopub.execute_input": "2020-08-27T14:32:34.444671Z",
     "iopub.status.busy": "2020-08-27T14:32:34.440887Z",
     "iopub.status.idle": "2020-08-27T14:32:34.461820Z",
     "shell.execute_reply": "2020-08-27T14:32:34.461029Z"
    },
    "id": "ff_ZCu_CYqJj",
    "outputId": "80428e30-c6a7-4052-eea6-3f9b4521c637",
    "papermill": {
     "duration": 0.058099,
     "end_time": "2020-08-27T14:32:34.461950",
     "exception": false,
     "start_time": "2020-08-27T14:32:34.403851",
     "status": "completed"
    },
    "tags": []
   },
   "outputs": [],
   "source": [
    "vis_data(df, 'insured_relationship')"
   ]
  },
  {
   "cell_type": "code",
   "execution_count": null,
   "metadata": {
    "execution": {
     "iopub.execute_input": "2020-08-27T14:32:34.583737Z",
     "iopub.status.busy": "2020-08-27T14:32:34.582885Z",
     "iopub.status.idle": "2020-08-27T14:32:34.602228Z",
     "shell.execute_reply": "2020-08-27T14:32:34.601484Z"
    },
    "id": "X5rJKJzZY76V",
    "outputId": "790cc03e-07dd-4f07-8c7f-e8ff0c78a020",
    "papermill": {
     "duration": 0.111818,
     "end_time": "2020-08-27T14:32:34.602356",
     "exception": false,
     "start_time": "2020-08-27T14:32:34.490538",
     "status": "completed"
    },
    "tags": []
   },
   "outputs": [],
   "source": [
    "vis_data(df, 'incident_type')"
   ]
  },
  {
   "cell_type": "markdown",
   "metadata": {
    "id": "wSvWBK1Ea3nf",
    "papermill": {
     "duration": 0.029026,
     "end_time": "2020-08-27T14:32:34.660886",
     "exception": false,
     "start_time": "2020-08-27T14:32:34.631860",
     "status": "completed"
    },
    "tags": []
   },
   "source": [
    "Multi-vehicle and single vehicle collisions have more number of frauds compared to parked and vehicle theft. One of the reasons could be that in a collision, there is high possibility of more damage to car, as well as the passengers and hence the need to file false insurance claims."
   ]
  },
  {
   "cell_type": "code",
   "execution_count": null,
   "metadata": {
    "execution": {
     "iopub.execute_input": "2020-08-27T14:32:34.728996Z",
     "iopub.status.busy": "2020-08-27T14:32:34.727995Z",
     "iopub.status.idle": "2020-08-27T14:32:34.747616Z",
     "shell.execute_reply": "2020-08-27T14:32:34.746870Z"
    },
    "id": "VRx3_XPiY74-",
    "outputId": "e74da6fc-060c-41df-b241-4f5ab110976e",
    "papermill": {
     "duration": 0.057941,
     "end_time": "2020-08-27T14:32:34.747754",
     "exception": false,
     "start_time": "2020-08-27T14:32:34.689813",
     "status": "completed"
    },
    "tags": []
   },
   "outputs": [],
   "source": [
    "vis_data(df, 'collision_type')"
   ]
  },
  {
   "cell_type": "markdown",
   "metadata": {
    "id": "ITBMLPCdbTh6",
    "papermill": {
     "duration": 0.028995,
     "end_time": "2020-08-27T14:32:34.806425",
     "exception": false,
     "start_time": "2020-08-27T14:32:34.777430",
     "status": "completed"
    },
    "tags": []
   },
   "source": [
    "While there are significant numbers of false claims in front and side collisions, rear collisions are the highest.\n",
    "\n",
    "This data is for the US and there, many people use dash cams while driving to record whatever is happening while they drive. In rear collisions, the footage from dash cams is not very helpful to onclusively prove whose mistake it was (insurance owner or other car owner). Maybe that is the reason for more fradulent claims in rear collisions."
   ]
  },
  {
   "cell_type": "code",
   "execution_count": null,
   "metadata": {
    "execution": {
     "iopub.execute_input": "2020-08-27T14:32:34.876071Z",
     "iopub.status.busy": "2020-08-27T14:32:34.872570Z",
     "iopub.status.idle": "2020-08-27T14:32:34.894258Z",
     "shell.execute_reply": "2020-08-27T14:32:34.893571Z"
    },
    "id": "dz3IHW_GY72e",
    "outputId": "f218e0ff-9da3-4758-a619-4457f49378b6",
    "papermill": {
     "duration": 0.057985,
     "end_time": "2020-08-27T14:32:34.894387",
     "exception": false,
     "start_time": "2020-08-27T14:32:34.836402",
     "status": "completed"
    },
    "tags": []
   },
   "outputs": [],
   "source": [
    "vis_data(df, 'incident_severity')"
   ]
  },
  {
   "cell_type": "markdown",
   "metadata": {
    "id": "N2rgRwczcA3w",
    "papermill": {
     "duration": 0.029312,
     "end_time": "2020-08-27T14:32:34.953489",
     "exception": false,
     "start_time": "2020-08-27T14:32:34.924177",
     "status": "completed"
    },
    "tags": []
   },
   "source": [
    "Here, compared to minor damage, total loss and trivial damage, fraudulent claims are highest in major damage.\n",
    "\n",
    "One reason could be that the high amount of repair cost which will be incurred by the insurer due to major damage. "
   ]
  },
  {
   "cell_type": "code",
   "execution_count": null,
   "metadata": {
    "execution": {
     "iopub.execute_input": "2020-08-27T14:32:35.021697Z",
     "iopub.status.busy": "2020-08-27T14:32:35.020317Z",
     "iopub.status.idle": "2020-08-27T14:32:35.041051Z",
     "shell.execute_reply": "2020-08-27T14:32:35.040344Z"
    },
    "id": "ClOBFzwnY70l",
    "outputId": "1e89a0e3-4b38-4e10-8c0b-e84eb7c0992c",
    "papermill": {
     "duration": 0.057877,
     "end_time": "2020-08-27T14:32:35.041197",
     "exception": false,
     "start_time": "2020-08-27T14:32:34.983320",
     "status": "completed"
    },
    "tags": []
   },
   "outputs": [],
   "source": [
    "vis_data(df, 'authorities_contacted')"
   ]
  },
  {
   "cell_type": "code",
   "execution_count": null,
   "metadata": {
    "execution": {
     "iopub.execute_input": "2020-08-27T14:32:35.110297Z",
     "iopub.status.busy": "2020-08-27T14:32:35.109243Z",
     "iopub.status.idle": "2020-08-27T14:32:35.129761Z",
     "shell.execute_reply": "2020-08-27T14:32:35.129052Z"
    },
    "id": "zYHMTz-QY7w3",
    "outputId": "137abf5a-32b1-482c-9177-1056ebe6a8a8",
    "papermill": {
     "duration": 0.058758,
     "end_time": "2020-08-27T14:32:35.129878",
     "exception": false,
     "start_time": "2020-08-27T14:32:35.071120",
     "status": "completed"
    },
    "tags": []
   },
   "outputs": [],
   "source": [
    "vis_data(df, 'insured_hobbies')"
   ]
  },
  {
   "cell_type": "markdown",
   "metadata": {
    "id": "WwlKfTEhdjxm",
    "papermill": {
     "duration": 0.030673,
     "end_time": "2020-08-27T14:32:35.190701",
     "exception": false,
     "start_time": "2020-08-27T14:32:35.160028",
     "status": "completed"
    },
    "tags": []
   },
   "source": [
    "One thing which is striking in this graph is that people with chess and cross-fit as hobby have extremely high number of fraudulent claims.\n",
    "\n",
    "We will keep them and rename other values as 'other'"
   ]
  },
  {
   "cell_type": "code",
   "execution_count": null,
   "metadata": {
    "execution": {
     "iopub.execute_input": "2020-08-27T14:32:35.274204Z",
     "iopub.status.busy": "2020-08-27T14:32:35.270551Z",
     "iopub.status.idle": "2020-08-27T14:32:35.291018Z",
     "shell.execute_reply": "2020-08-27T14:32:35.290435Z"
    },
    "id": "dKQiLS8UY7vQ",
    "outputId": "9ca7d35f-8a00-460c-c6d2-293283acbbc9",
    "papermill": {
     "duration": 0.070267,
     "end_time": "2020-08-27T14:32:35.291130",
     "exception": false,
     "start_time": "2020-08-27T14:32:35.220863",
     "status": "completed"
    },
    "tags": []
   },
   "outputs": [],
   "source": [
    "hobbies = df['insured_hobbies'].unique()\n",
    "for hobby in hobbies:\n",
    "  if (hobby != 'chess') & (hobby != 'cross-fit'):\n",
    "    df['insured_hobbies'] = df['insured_hobbies'].str.replace(hobby, 'other')\n",
    "\n",
    "df['insured_hobbies'].unique()"
   ]
  },
  {
   "cell_type": "code",
   "execution_count": null,
   "metadata": {
    "execution": {
     "iopub.execute_input": "2020-08-27T14:32:35.369703Z",
     "iopub.status.busy": "2020-08-27T14:32:35.359307Z",
     "iopub.status.idle": "2020-08-27T14:32:35.382626Z",
     "shell.execute_reply": "2020-08-27T14:32:35.382091Z"
    },
    "id": "TSoxE1mEKVzo",
    "outputId": "e396636b-70b5-4a30-961b-f5a1fa73e469",
    "papermill": {
     "duration": 0.06148,
     "end_time": "2020-08-27T14:32:35.382741",
     "exception": false,
     "start_time": "2020-08-27T14:32:35.321261",
     "status": "completed"
    },
    "tags": []
   },
   "outputs": [],
   "source": [
    "df.head()"
   ]
  },
  {
   "cell_type": "code",
   "execution_count": null,
   "metadata": {
    "execution": {
     "iopub.execute_input": "2020-08-27T14:32:35.448021Z",
     "iopub.status.busy": "2020-08-27T14:32:35.447158Z",
     "iopub.status.idle": "2020-08-27T14:32:36.562732Z",
     "shell.execute_reply": "2020-08-27T14:32:36.561985Z"
    },
    "id": "mPdDeeu8zGzo",
    "outputId": "bd4efca9-c09b-4008-983f-69fa063e8a90",
    "papermill": {
     "duration": 1.150404,
     "end_time": "2020-08-27T14:32:36.562878",
     "exception": false,
     "start_time": "2020-08-27T14:32:35.412474",
     "status": "completed"
    },
    "tags": []
   },
   "outputs": [],
   "source": [
    "vis_data(df, 'age', 'anything', 'hist')"
   ]
  },
  {
   "cell_type": "markdown",
   "metadata": {
    "id": "PpAqddaFgcRL",
    "papermill": {
     "duration": 0.030655,
     "end_time": "2020-08-27T14:32:36.625169",
     "exception": false,
     "start_time": "2020-08-27T14:32:36.594514",
     "status": "completed"
    },
    "tags": []
   },
   "source": [
    "We will bin the ages and then check the trend for fraud vs. no fraud according to age."
   ]
  },
  {
   "cell_type": "code",
   "execution_count": null,
   "metadata": {
    "execution": {
     "iopub.execute_input": "2020-08-27T14:32:36.702288Z",
     "iopub.status.busy": "2020-08-27T14:32:36.698300Z",
     "iopub.status.idle": "2020-08-27T14:32:36.707240Z",
     "shell.execute_reply": "2020-08-27T14:32:36.706523Z"
    },
    "id": "4kOgv1hHgvzt",
    "outputId": "acf477d9-437d-4ecf-d51c-5a7a35668b46",
    "papermill": {
     "duration": 0.051179,
     "end_time": "2020-08-27T14:32:36.707368",
     "exception": false,
     "start_time": "2020-08-27T14:32:36.656189",
     "status": "completed"
    },
    "tags": []
   },
   "outputs": [],
   "source": [
    "df['age'].describe()"
   ]
  },
  {
   "cell_type": "code",
   "execution_count": null,
   "metadata": {
    "execution": {
     "iopub.execute_input": "2020-08-27T14:32:36.777588Z",
     "iopub.status.busy": "2020-08-27T14:32:36.776866Z",
     "iopub.status.idle": "2020-08-27T14:32:36.782509Z",
     "shell.execute_reply": "2020-08-27T14:32:36.783054Z"
    },
    "id": "fZznzYzfgr45",
    "papermill": {
     "duration": 0.044465,
     "end_time": "2020-08-27T14:32:36.783227",
     "exception": false,
     "start_time": "2020-08-27T14:32:36.738762",
     "status": "completed"
    },
    "tags": []
   },
   "outputs": [],
   "source": [
    "bin_labels = ['15-20', '21-25', '26-30', '31-35', '36-40', '41-45', '46-50', '51-55', '56-60', '61-65']\n",
    "bins = [15, 20, 25, 30, 35, 40, 45, 50, 55, 60, 65]\n",
    "\n",
    "df['age_group'] = pd.cut(df['age'], bins = bins, labels = bin_labels, include_lowest = True)"
   ]
  },
  {
   "cell_type": "code",
   "execution_count": null,
   "metadata": {
    "execution": {
     "iopub.execute_input": "2020-08-27T14:32:36.849523Z",
     "iopub.status.busy": "2020-08-27T14:32:36.848774Z",
     "iopub.status.idle": "2020-08-27T14:32:36.876103Z",
     "shell.execute_reply": "2020-08-27T14:32:36.876690Z"
    },
    "id": "2GMiABw2gr1E",
    "outputId": "bc51bc4b-dd1b-4310-dbb4-283ae1fcc58f",
    "papermill": {
     "duration": 0.061981,
     "end_time": "2020-08-27T14:32:36.876839",
     "exception": false,
     "start_time": "2020-08-27T14:32:36.814858",
     "status": "completed"
    },
    "tags": []
   },
   "outputs": [],
   "source": [
    "vis_data(df, 'age_group')"
   ]
  },
  {
   "cell_type": "markdown",
   "metadata": {
    "id": "cgnxrIa2i30o",
    "papermill": {
     "duration": 0.03179,
     "end_time": "2020-08-27T14:32:36.940488",
     "exception": false,
     "start_time": "2020-08-27T14:32:36.908698",
     "status": "completed"
    },
    "tags": []
   },
   "source": [
    "People in the age group of 31-35 and 41-45 have more number of frauds"
   ]
  },
  {
   "cell_type": "code",
   "execution_count": null,
   "metadata": {
    "execution": {
     "iopub.execute_input": "2020-08-27T14:32:37.019032Z",
     "iopub.status.busy": "2020-08-27T14:32:37.017932Z",
     "iopub.status.idle": "2020-08-27T14:32:37.067097Z",
     "shell.execute_reply": "2020-08-27T14:32:37.067644Z"
    },
    "id": "8IVYfybZzGzs",
    "outputId": "4af80441-5b0e-4dd7-aa0b-8750f8e17dac",
    "papermill": {
     "duration": 0.095748,
     "end_time": "2020-08-27T14:32:37.067793",
     "exception": false,
     "start_time": "2020-08-27T14:32:36.972045",
     "status": "completed"
    },
    "tags": []
   },
   "outputs": [],
   "source": [
    "vis_data(df, 'months_as_customer', 'not', 'hist')"
   ]
  },
  {
   "cell_type": "markdown",
   "metadata": {
    "id": "azavCjSzjFS3",
    "papermill": {
     "duration": 0.032002,
     "end_time": "2020-08-27T14:32:37.132422",
     "exception": false,
     "start_time": "2020-08-27T14:32:37.100420",
     "status": "completed"
    },
    "tags": []
   },
   "source": [
    "Like we did for the age column, we will create a new column grouping the months_as_customer column data."
   ]
  },
  {
   "cell_type": "code",
   "execution_count": null,
   "metadata": {
    "execution": {
     "iopub.execute_input": "2020-08-27T14:32:37.201893Z",
     "iopub.status.busy": "2020-08-27T14:32:37.200758Z",
     "iopub.status.idle": "2020-08-27T14:32:37.211130Z",
     "shell.execute_reply": "2020-08-27T14:32:37.211635Z"
    },
    "id": "0LfSvDWOjvfA",
    "outputId": "0b5106b5-c505-4d0a-de84-a651b8047062",
    "papermill": {
     "duration": 0.047724,
     "end_time": "2020-08-27T14:32:37.211789",
     "exception": false,
     "start_time": "2020-08-27T14:32:37.164065",
     "status": "completed"
    },
    "tags": []
   },
   "outputs": [],
   "source": [
    "df['months_as_customer'].describe()"
   ]
  },
  {
   "cell_type": "code",
   "execution_count": null,
   "metadata": {
    "execution": {
     "iopub.execute_input": "2020-08-27T14:32:37.285693Z",
     "iopub.status.busy": "2020-08-27T14:32:37.283667Z",
     "iopub.status.idle": "2020-08-27T14:32:37.291010Z",
     "shell.execute_reply": "2020-08-27T14:32:37.290433Z"
    },
    "id": "EAz5qiiNjG8r",
    "papermill": {
     "duration": 0.047307,
     "end_time": "2020-08-27T14:32:37.291130",
     "exception": false,
     "start_time": "2020-08-27T14:32:37.243823",
     "status": "completed"
    },
    "tags": []
   },
   "outputs": [],
   "source": [
    "bins = [0, 50, 100, 150, 200, 250, 300, 350, 400, 450, 500]\n",
    "bin_labels = ['0-50','51-100','101-150','151-200','201-250','251-300','301-350','351-400','401-450','451-500']\n",
    "\n",
    "df['months_as_customer_groups'] = pd.cut(df['months_as_customer'], bins = 10, labels = bin_labels, include_lowest= True)"
   ]
  },
  {
   "cell_type": "code",
   "execution_count": null,
   "metadata": {
    "execution": {
     "iopub.execute_input": "2020-08-27T14:32:37.362729Z",
     "iopub.status.busy": "2020-08-27T14:32:37.362042Z",
     "iopub.status.idle": "2020-08-27T14:32:37.388225Z",
     "shell.execute_reply": "2020-08-27T14:32:37.388858Z"
    },
    "id": "IQJx5R66jG0M",
    "outputId": "1da94e78-7a67-4dbf-898e-0c5fa01534d2",
    "papermill": {
     "duration": 0.0647,
     "end_time": "2020-08-27T14:32:37.389040",
     "exception": false,
     "start_time": "2020-08-27T14:32:37.324340",
     "status": "completed"
    },
    "tags": []
   },
   "outputs": [],
   "source": [
    "vis_data(df, 'months_as_customer_groups')"
   ]
  },
  {
   "cell_type": "code",
   "execution_count": null,
   "metadata": {
    "execution": {
     "iopub.execute_input": "2020-08-27T14:32:37.458533Z",
     "iopub.status.busy": "2020-08-27T14:32:37.457859Z",
     "iopub.status.idle": "2020-08-27T14:32:37.479481Z",
     "shell.execute_reply": "2020-08-27T14:32:37.480047Z"
    },
    "id": "FuW7bszlzGzz",
    "outputId": "18322c31-ebf9-48c5-ecfa-fd07608905fb",
    "papermill": {
     "duration": 0.057359,
     "end_time": "2020-08-27T14:32:37.480222",
     "exception": false,
     "start_time": "2020-08-27T14:32:37.422863",
     "status": "completed"
    },
    "tags": []
   },
   "outputs": [],
   "source": [
    "vis_data(df, 'auto_make')"
   ]
  },
  {
   "cell_type": "code",
   "execution_count": null,
   "metadata": {
    "execution": {
     "iopub.execute_input": "2020-08-27T14:32:37.549247Z",
     "iopub.status.busy": "2020-08-27T14:32:37.548533Z",
     "iopub.status.idle": "2020-08-27T14:32:37.569561Z",
     "shell.execute_reply": "2020-08-27T14:32:37.570154Z"
    },
    "id": "enuUYCdGzGz6",
    "outputId": "477015e7-a7e3-4d48-be4d-8096472c5c36",
    "papermill": {
     "duration": 0.057303,
     "end_time": "2020-08-27T14:32:37.570341",
     "exception": false,
     "start_time": "2020-08-27T14:32:37.513038",
     "status": "completed"
    },
    "tags": []
   },
   "outputs": [],
   "source": [
    "vis_data(df, 'number_of_vehicles_involved')"
   ]
  },
  {
   "cell_type": "code",
   "execution_count": null,
   "metadata": {
    "execution": {
     "iopub.execute_input": "2020-08-27T14:32:37.641453Z",
     "iopub.status.busy": "2020-08-27T14:32:37.640754Z",
     "iopub.status.idle": "2020-08-27T14:32:37.663331Z",
     "shell.execute_reply": "2020-08-27T14:32:37.662762Z"
    },
    "id": "BC5SDitHzGz-",
    "outputId": "d5638ed8-a166-406e-d883-2965994d2c06",
    "papermill": {
     "duration": 0.058623,
     "end_time": "2020-08-27T14:32:37.663455",
     "exception": false,
     "start_time": "2020-08-27T14:32:37.604832",
     "status": "completed"
    },
    "tags": []
   },
   "outputs": [],
   "source": [
    "vis_data(df, 'witnesses', 'fraud_reported')"
   ]
  },
  {
   "cell_type": "code",
   "execution_count": null,
   "metadata": {
    "execution": {
     "iopub.execute_input": "2020-08-27T14:32:37.739229Z",
     "iopub.status.busy": "2020-08-27T14:32:37.738516Z",
     "iopub.status.idle": "2020-08-27T14:32:37.756693Z",
     "shell.execute_reply": "2020-08-27T14:32:37.756098Z"
    },
    "id": "Lg20feU3_tGM",
    "outputId": "3665b577-de72-4b89-f583-179322f59310",
    "papermill": {
     "duration": 0.05955,
     "end_time": "2020-08-27T14:32:37.756806",
     "exception": false,
     "start_time": "2020-08-27T14:32:37.697256",
     "status": "completed"
    },
    "tags": []
   },
   "outputs": [],
   "source": [
    "vis_data(df, 'bodily_injuries')"
   ]
  },
  {
   "cell_type": "code",
   "execution_count": null,
   "metadata": {
    "execution": {
     "iopub.execute_input": "2020-08-27T14:32:37.837941Z",
     "iopub.status.busy": "2020-08-27T14:32:37.836377Z",
     "iopub.status.idle": "2020-08-27T14:32:37.889518Z",
     "shell.execute_reply": "2020-08-27T14:32:37.888845Z"
    },
    "id": "m1HuOvcvzG0C",
    "outputId": "e4751bcd-4ee7-4b43-d674-326b3e10ef1e",
    "papermill": {
     "duration": 0.099283,
     "end_time": "2020-08-27T14:32:37.889646",
     "exception": false,
     "start_time": "2020-08-27T14:32:37.790363",
     "status": "completed"
    },
    "tags": []
   },
   "outputs": [],
   "source": [
    "vis_data(df, 'total_claim_amount', 'y', 'hist')"
   ]
  },
  {
   "cell_type": "code",
   "execution_count": null,
   "metadata": {
    "execution": {
     "iopub.execute_input": "2020-08-27T14:32:37.967636Z",
     "iopub.status.busy": "2020-08-27T14:32:37.966456Z",
     "iopub.status.idle": "2020-08-27T14:32:37.987419Z",
     "shell.execute_reply": "2020-08-27T14:32:37.987899Z"
    },
    "id": "rtxHk4a2zG0G",
    "outputId": "9d37771e-3387-48bb-a9b7-90d275dec558",
    "papermill": {
     "duration": 0.063338,
     "end_time": "2020-08-27T14:32:37.988064",
     "exception": false,
     "start_time": "2020-08-27T14:32:37.924726",
     "status": "completed"
    },
    "tags": []
   },
   "outputs": [],
   "source": [
    "vis_data(df, 'incident_hour_of_the_day')"
   ]
  },
  {
   "cell_type": "code",
   "execution_count": null,
   "metadata": {
    "execution": {
     "iopub.execute_input": "2020-08-27T14:32:38.068024Z",
     "iopub.status.busy": "2020-08-27T14:32:38.065977Z",
     "iopub.status.idle": "2020-08-27T14:32:38.086810Z",
     "shell.execute_reply": "2020-08-27T14:32:38.086184Z"
    },
    "id": "TGG3f_YWzG0K",
    "outputId": "c5a7de26-22cd-4607-8e13-6ff72a97e2ed",
    "papermill": {
     "duration": 0.063849,
     "end_time": "2020-08-27T14:32:38.086926",
     "exception": false,
     "start_time": "2020-08-27T14:32:38.023077",
     "status": "completed"
    },
    "tags": []
   },
   "outputs": [],
   "source": [
    "vis_data(df, 'number_of_vehicles_involved')"
   ]
  },
  {
   "cell_type": "code",
   "execution_count": null,
   "metadata": {
    "execution": {
     "iopub.execute_input": "2020-08-27T14:32:38.165562Z",
     "iopub.status.busy": "2020-08-27T14:32:38.164785Z",
     "iopub.status.idle": "2020-08-27T14:32:38.185044Z",
     "shell.execute_reply": "2020-08-27T14:32:38.186163Z"
    },
    "id": "o5ztM4h7zG0O",
    "outputId": "8884749b-0076-4d03-b89d-fb527e15e0f8",
    "papermill": {
     "duration": 0.06461,
     "end_time": "2020-08-27T14:32:38.186441",
     "exception": false,
     "start_time": "2020-08-27T14:32:38.121831",
     "status": "completed"
    },
    "tags": []
   },
   "outputs": [],
   "source": [
    "vis_data(df, 'witnesses')"
   ]
  },
  {
   "cell_type": "code",
   "execution_count": null,
   "metadata": {
    "execution": {
     "iopub.execute_input": "2020-08-27T14:32:38.306924Z",
     "iopub.status.busy": "2020-08-27T14:32:38.305863Z",
     "iopub.status.idle": "2020-08-27T14:32:38.324716Z",
     "shell.execute_reply": "2020-08-27T14:32:38.324114Z"
    },
    "id": "9TFO3ymeWOlI",
    "outputId": "5b0699dd-9f4f-4893-afdf-965d8b113c5c",
    "papermill": {
     "duration": 0.095205,
     "end_time": "2020-08-27T14:32:38.324857",
     "exception": false,
     "start_time": "2020-08-27T14:32:38.229652",
     "status": "completed"
    },
    "tags": []
   },
   "outputs": [],
   "source": [
    "vis_data(df, 'auto_year')"
   ]
  },
  {
   "cell_type": "code",
   "execution_count": null,
   "metadata": {
    "execution": {
     "iopub.execute_input": "2020-08-27T14:32:38.412045Z",
     "iopub.status.busy": "2020-08-27T14:32:38.410941Z",
     "iopub.status.idle": "2020-08-27T14:32:38.419245Z",
     "shell.execute_reply": "2020-08-27T14:32:38.419754Z"
    },
    "id": "Hg5B_aE8WOcW",
    "outputId": "6aaca2e8-cc7b-4b89-e606-e01d8fec4282",
    "papermill": {
     "duration": 0.052327,
     "end_time": "2020-08-27T14:32:38.419913",
     "exception": false,
     "start_time": "2020-08-27T14:32:38.367586",
     "status": "completed"
    },
    "tags": []
   },
   "outputs": [],
   "source": [
    "df['policy_annual_premium'].describe()"
   ]
  },
  {
   "cell_type": "code",
   "execution_count": null,
   "metadata": {
    "execution": {
     "iopub.execute_input": "2020-08-27T14:32:38.495900Z",
     "iopub.status.busy": "2020-08-27T14:32:38.494825Z",
     "iopub.status.idle": "2020-08-27T14:32:38.504107Z",
     "shell.execute_reply": "2020-08-27T14:32:38.504686Z"
    },
    "id": "7anNKkF-WOP4",
    "papermill": {
     "duration": 0.04936,
     "end_time": "2020-08-27T14:32:38.504850",
     "exception": false,
     "start_time": "2020-08-27T14:32:38.455490",
     "status": "completed"
    },
    "tags": []
   },
   "outputs": [],
   "source": [
    "bins = list(np.linspace(0,2500, 6, dtype = int))\n",
    "bin_labels = ['very low', 'low', 'medium', 'high', 'very high']\n",
    "\n",
    "df['policy_annual_premium_groups'] = pd.cut(df['policy_annual_premium'], bins = bins, labels=bin_labels)"
   ]
  },
  {
   "cell_type": "code",
   "execution_count": null,
   "metadata": {
    "execution": {
     "iopub.execute_input": "2020-08-27T14:32:38.581176Z",
     "iopub.status.busy": "2020-08-27T14:32:38.580071Z",
     "iopub.status.idle": "2020-08-27T14:32:38.609995Z",
     "shell.execute_reply": "2020-08-27T14:32:38.609405Z"
    },
    "id": "9U0_X6TVzDZF",
    "outputId": "da72dda0-3c8b-447a-fa60-94205882093d",
    "papermill": {
     "duration": 0.069226,
     "end_time": "2020-08-27T14:32:38.610114",
     "exception": false,
     "start_time": "2020-08-27T14:32:38.540888",
     "status": "completed"
    },
    "tags": []
   },
   "outputs": [],
   "source": [
    "vis_data(df, 'policy_annual_premium_groups')\n"
   ]
  },
  {
   "cell_type": "code",
   "execution_count": null,
   "metadata": {
    "execution": {
     "iopub.execute_input": "2020-08-27T14:32:38.693518Z",
     "iopub.status.busy": "2020-08-27T14:32:38.692803Z",
     "iopub.status.idle": "2020-08-27T14:32:38.696469Z",
     "shell.execute_reply": "2020-08-27T14:32:38.696964Z"
    },
    "id": "0vSYWrEk2z-7",
    "outputId": "275ae6e4-9d05-4545-b06a-ad06ff624156",
    "papermill": {
     "duration": 0.050365,
     "end_time": "2020-08-27T14:32:38.697106",
     "exception": false,
     "start_time": "2020-08-27T14:32:38.646741",
     "status": "completed"
    },
    "tags": []
   },
   "outputs": [],
   "source": [
    "df['policy_deductable'].describe()"
   ]
  },
  {
   "cell_type": "code",
   "execution_count": null,
   "metadata": {
    "execution": {
     "iopub.execute_input": "2020-08-27T14:32:38.772403Z",
     "iopub.status.busy": "2020-08-27T14:32:38.771669Z",
     "iopub.status.idle": "2020-08-27T14:32:38.809706Z",
     "shell.execute_reply": "2020-08-27T14:32:38.809023Z"
    },
    "id": "I4I5nPWu1i97",
    "outputId": "c90e1c73-4bb1-49ac-90b8-5b9709c40c3a",
    "papermill": {
     "duration": 0.077196,
     "end_time": "2020-08-27T14:32:38.809834",
     "exception": false,
     "start_time": "2020-08-27T14:32:38.732638",
     "status": "completed"
    },
    "tags": []
   },
   "outputs": [],
   "source": [
    "bins = list(np.linspace(0,2000, 5, dtype = int))\n",
    "bin_labels = ['0-500', '501-1000', '1001-1500', '1501-2000']\n",
    "\n",
    "df['policy_deductable_group'] = pd.cut(df['policy_deductable'], bins = bins, labels = bin_labels)\n",
    "\n",
    "vis_data(df, 'policy_deductable_group')"
   ]
  },
  {
   "cell_type": "code",
   "execution_count": null,
   "metadata": {
    "execution": {
     "iopub.execute_input": "2020-08-27T14:32:38.891036Z",
     "iopub.status.busy": "2020-08-27T14:32:38.889831Z",
     "iopub.status.idle": "2020-08-27T14:32:38.910308Z",
     "shell.execute_reply": "2020-08-27T14:32:38.910809Z"
    },
    "id": "cLkELyxnBC10",
    "outputId": "2a52ee53-89bd-4c9a-f78c-43a7c153a6f5",
    "papermill": {
     "duration": 0.064916,
     "end_time": "2020-08-27T14:32:38.910966",
     "exception": false,
     "start_time": "2020-08-27T14:32:38.846050",
     "status": "completed"
    },
    "tags": []
   },
   "outputs": [],
   "source": [
    "vis_data(df, 'property_damage')"
   ]
  },
  {
   "cell_type": "code",
   "execution_count": null,
   "metadata": {
    "execution": {
     "iopub.execute_input": "2020-08-27T14:32:38.987671Z",
     "iopub.status.busy": "2020-08-27T14:32:38.986977Z",
     "iopub.status.idle": "2020-08-27T14:32:39.009049Z",
     "shell.execute_reply": "2020-08-27T14:32:39.009548Z"
    },
    "id": "FIeTJojMBkD5",
    "outputId": "9eb9874e-201f-4f2e-d2e4-b63d5be9dbd5",
    "papermill": {
     "duration": 0.062214,
     "end_time": "2020-08-27T14:32:39.009710",
     "exception": false,
     "start_time": "2020-08-27T14:32:38.947496",
     "status": "completed"
    },
    "tags": []
   },
   "outputs": [],
   "source": [
    "vis_data(df, 'police_report_available')"
   ]
  },
  {
   "cell_type": "code",
   "execution_count": null,
   "metadata": {
    "execution": {
     "iopub.execute_input": "2020-08-27T14:32:39.087971Z",
     "iopub.status.busy": "2020-08-27T14:32:39.087198Z",
     "iopub.status.idle": "2020-08-27T14:32:39.096046Z",
     "shell.execute_reply": "2020-08-27T14:32:39.096568Z"
    },
    "id": "m8Q4GgIRzG0h",
    "outputId": "c0f9bd18-3f79-4664-c028-f227d571bd6c",
    "papermill": {
     "duration": 0.050018,
     "end_time": "2020-08-27T14:32:39.096730",
     "exception": false,
     "start_time": "2020-08-27T14:32:39.046712",
     "status": "completed"
    },
    "tags": []
   },
   "outputs": [],
   "source": [
    "#removing columns for which we created groups\n",
    "df = df.drop(['age', 'months_as_customer', 'policy_deductable', 'policy_annual_premium'], axis = 1)\n",
    "df.columns"
   ]
  },
  {
   "cell_type": "markdown",
   "metadata": {
    "id": "RDnsHXmR40YI",
    "papermill": {
     "duration": 0.037045,
     "end_time": "2020-08-27T14:32:39.172675",
     "exception": false,
     "start_time": "2020-08-27T14:32:39.135630",
     "status": "completed"
    },
    "tags": []
   },
   "source": [
    "Based on the EDA, we remove some of the columns"
   ]
  },
  {
   "cell_type": "code",
   "execution_count": null,
   "metadata": {
    "execution": {
     "iopub.execute_input": "2020-08-27T14:32:39.255433Z",
     "iopub.status.busy": "2020-08-27T14:32:39.254513Z",
     "iopub.status.idle": "2020-08-27T14:32:39.257948Z",
     "shell.execute_reply": "2020-08-27T14:32:39.258765Z"
    },
    "id": "zWXcvt7rzG0l",
    "outputId": "ef0d8640-b06e-4fa9-a9ef-a6da0925ccdd",
    "papermill": {
     "duration": 0.048964,
     "end_time": "2020-08-27T14:32:39.258978",
     "exception": false,
     "start_time": "2020-08-27T14:32:39.210014",
     "status": "completed"
    },
    "tags": []
   },
   "outputs": [],
   "source": [
    "required_columns = ['policy_number', 'insured_sex', 'insured_education_level', 'insured_occupation',\n",
    "       'insured_hobbies', 'capital-gains', 'capital-loss', 'incident_type', 'collision_type', 'incident_severity',\n",
    "       'authorities_contacted', 'incident_hour_of_the_day', 'number_of_vehicles_involved',\n",
    "       'witnesses', 'total_claim_amount',\n",
    "       'injury_claim', 'property_claim', 'vehicle_claim',\n",
    "       'fraud_reported', 'age_group',\n",
    "       'months_as_customer_groups', 'policy_annual_premium_groups']\n",
    "\n",
    "print(len(required_columns))"
   ]
  },
  {
   "cell_type": "code",
   "execution_count": null,
   "metadata": {
    "execution": {
     "iopub.execute_input": "2020-08-27T14:32:39.345683Z",
     "iopub.status.busy": "2020-08-27T14:32:39.344914Z",
     "iopub.status.idle": "2020-08-27T14:32:39.364286Z",
     "shell.execute_reply": "2020-08-27T14:32:39.364926Z"
    },
    "id": "eHqLMfp35iDw",
    "outputId": "bceef229-90aa-4913-f169-3ea68a21343a",
    "papermill": {
     "duration": 0.067441,
     "end_time": "2020-08-27T14:32:39.365092",
     "exception": false,
     "start_time": "2020-08-27T14:32:39.297651",
     "status": "completed"
    },
    "tags": []
   },
   "outputs": [],
   "source": [
    "df1 = df[required_columns]\n",
    "\n",
    "corr_matrix = df1.corr()\n",
    "\n",
    "fig = go.Figure(data = go.Heatmap(\n",
    "                                z = corr_matrix.values,\n",
    "                                x = list(corr_matrix.columns),\n",
    "                                y = list(corr_matrix.index)))\n",
    "\n",
    "fig.update_layout(title = 'Correlation')\n",
    "\n",
    "fig.show()"
   ]
  },
  {
   "cell_type": "markdown",
   "metadata": {
    "id": "hewk8vAC47RD",
    "papermill": {
     "duration": 0.03789,
     "end_time": "2020-08-27T14:32:39.441176",
     "exception": false,
     "start_time": "2020-08-27T14:32:39.403286",
     "status": "completed"
    },
    "tags": []
   },
   "source": [
    "From the correlation matrix, we see there is high correlation between `vehicle claim`, `total_claim_amount`, `property_claim` and `injury_claim`\n",
    "\n",
    "The reason for it is that `total_claim_amount` is the sum of columns `vehicle claim`,`property_claim` and `injury_claim`.\n",
    "\n",
    "We will remove the other 3 columns and only keep `total_claim_amount` as it captures the information and removes collinearity."
   ]
  },
  {
   "cell_type": "code",
   "execution_count": null,
   "metadata": {
    "execution": {
     "iopub.execute_input": "2020-08-27T14:32:39.520666Z",
     "iopub.status.busy": "2020-08-27T14:32:39.519941Z",
     "iopub.status.idle": "2020-08-27T14:32:39.529850Z",
     "shell.execute_reply": "2020-08-27T14:32:39.529327Z"
    },
    "id": "Ypp6oIt985Pm",
    "outputId": "0ac21bf6-e69e-4a96-b63d-b9e7b1de36c0",
    "papermill": {
     "duration": 0.050647,
     "end_time": "2020-08-27T14:32:39.529978",
     "exception": false,
     "start_time": "2020-08-27T14:32:39.479331",
     "status": "completed"
    },
    "tags": []
   },
   "outputs": [],
   "source": [
    "t = df['total_claim_amount'].iloc[1]\n",
    "a = df['vehicle_claim'].iloc[1]\n",
    "b = df['property_claim'].iloc[1]\n",
    "c = df['injury_claim'].iloc[1]\n",
    "\n",
    "print(t)\n",
    "a+b+c"
   ]
  },
  {
   "cell_type": "markdown",
   "metadata": {
    "papermill": {
     "duration": 0.038505,
     "end_time": "2020-08-27T14:32:39.606597",
     "exception": false,
     "start_time": "2020-08-27T14:32:39.568092",
     "status": "completed"
    },
    "tags": []
   },
   "source": [
    "Keeping only the `total_claim_amount` column from these."
   ]
  },
  {
   "cell_type": "code",
   "execution_count": null,
   "metadata": {
    "execution": {
     "iopub.execute_input": "2020-08-27T14:32:39.691261Z",
     "iopub.status.busy": "2020-08-27T14:32:39.690418Z",
     "iopub.status.idle": "2020-08-27T14:32:39.694209Z",
     "shell.execute_reply": "2020-08-27T14:32:39.693601Z"
    },
    "id": "hivIh0mR45nM",
    "outputId": "adfa36d6-120d-409e-8d10-1d48d02e4a08",
    "papermill": {
     "duration": 0.04917,
     "end_time": "2020-08-27T14:32:39.694329",
     "exception": false,
     "start_time": "2020-08-27T14:32:39.645159",
     "status": "completed"
    },
    "tags": []
   },
   "outputs": [],
   "source": [
    "required_columns = ['insured_sex', 'insured_occupation',\n",
    "       'insured_hobbies', 'capital-gains', 'capital-loss', 'incident_type', 'collision_type', 'incident_severity',\n",
    "       'authorities_contacted', 'incident_hour_of_the_day', 'number_of_vehicles_involved',\n",
    "       'witnesses', 'total_claim_amount', 'fraud_reported', 'age_group',\n",
    "       'months_as_customer_groups', 'policy_annual_premium_groups']\n",
    "\n",
    "print(len(required_columns))"
   ]
  },
  {
   "cell_type": "code",
   "execution_count": null,
   "metadata": {
    "execution": {
     "iopub.execute_input": "2020-08-27T14:32:39.795034Z",
     "iopub.status.busy": "2020-08-27T14:32:39.794241Z",
     "iopub.status.idle": "2020-08-27T14:32:39.798028Z",
     "shell.execute_reply": "2020-08-27T14:32:39.798589Z"
    },
    "id": "9ewqPQNQ85MN",
    "outputId": "5c217dc6-9d93-4839-a566-5c293d487b59",
    "papermill": {
     "duration": 0.066483,
     "end_time": "2020-08-27T14:32:39.798743",
     "exception": false,
     "start_time": "2020-08-27T14:32:39.732260",
     "status": "completed"
    },
    "tags": []
   },
   "outputs": [],
   "source": [
    "df1 = df1[required_columns]\n",
    "df1.head()"
   ]
  },
  {
   "cell_type": "markdown",
   "metadata": {
    "id": "aI86HBaBEfqO",
    "papermill": {
     "duration": 0.037906,
     "end_time": "2020-08-27T14:32:39.875032",
     "exception": false,
     "start_time": "2020-08-27T14:32:39.837126",
     "status": "completed"
    },
    "tags": []
   },
   "source": [
    "## Encoding data for modelling"
   ]
  },
  {
   "cell_type": "code",
   "execution_count": null,
   "metadata": {
    "execution": {
     "iopub.execute_input": "2020-08-27T14:32:39.955766Z",
     "iopub.status.busy": "2020-08-27T14:32:39.955015Z",
     "iopub.status.idle": "2020-08-27T14:32:39.967664Z",
     "shell.execute_reply": "2020-08-27T14:32:39.968195Z"
    },
    "id": "i1qW-fAZDDpc",
    "outputId": "2682546e-5219-4745-e87e-d9bd3fdd4fe9",
    "papermill": {
     "duration": 0.054915,
     "end_time": "2020-08-27T14:32:39.968372",
     "exception": false,
     "start_time": "2020-08-27T14:32:39.913457",
     "status": "completed"
    },
    "tags": []
   },
   "outputs": [],
   "source": [
    "cat_cols = ['age_group', 'months_as_customer_groups', 'policy_annual_premium_groups']\n",
    "for col in cat_cols:\n",
    "  df1[col] = df1[col].astype('object')\n",
    "\n",
    "columns_to_encode = []\n",
    "for col in df1.columns:\n",
    "  if df1[col].dtype == 'object':\n",
    "    columns_to_encode.append(col)\n",
    "\n",
    "columns_to_encode"
   ]
  },
  {
   "cell_type": "code",
   "execution_count": null,
   "metadata": {
    "execution": {
     "iopub.execute_input": "2020-08-27T14:32:40.048028Z",
     "iopub.status.busy": "2020-08-27T14:32:40.047402Z",
     "iopub.status.idle": "2020-08-27T14:32:40.061832Z",
     "shell.execute_reply": "2020-08-27T14:32:40.062368Z"
    },
    "id": "O9zOb0dKLmny",
    "outputId": "26969617-babf-45af-c626-677dafdec96c",
    "papermill": {
     "duration": 0.055832,
     "end_time": "2020-08-27T14:32:40.062526",
     "exception": false,
     "start_time": "2020-08-27T14:32:40.006694",
     "status": "completed"
    },
    "tags": []
   },
   "outputs": [],
   "source": [
    "df1.info()"
   ]
  },
  {
   "cell_type": "code",
   "execution_count": null,
   "metadata": {
    "execution": {
     "iopub.execute_input": "2020-08-27T14:32:40.143643Z",
     "iopub.status.busy": "2020-08-27T14:32:40.142949Z",
     "iopub.status.idle": "2020-08-27T14:32:40.163325Z",
     "shell.execute_reply": "2020-08-27T14:32:40.163927Z"
    },
    "id": "4ObECb9kauS2",
    "outputId": "8279331e-1548-4535-848c-d54a777308b4",
    "papermill": {
     "duration": 0.062391,
     "end_time": "2020-08-27T14:32:40.164084",
     "exception": false,
     "start_time": "2020-08-27T14:32:40.101693",
     "status": "completed"
    },
    "tags": []
   },
   "outputs": [],
   "source": [
    "df1.head()"
   ]
  },
  {
   "cell_type": "code",
   "execution_count": null,
   "metadata": {
    "execution": {
     "iopub.execute_input": "2020-08-27T14:32:40.253880Z",
     "iopub.status.busy": "2020-08-27T14:32:40.245301Z",
     "iopub.status.idle": "2020-08-27T14:32:40.285388Z",
     "shell.execute_reply": "2020-08-27T14:32:40.284699Z"
    },
    "id": "hUXq2hjC-fDx",
    "outputId": "c2df04dd-ea57-42ee-fa07-6f9eacda5750",
    "papermill": {
     "duration": 0.082287,
     "end_time": "2020-08-27T14:32:40.285512",
     "exception": false,
     "start_time": "2020-08-27T14:32:40.203225",
     "status": "completed"
    },
    "tags": []
   },
   "outputs": [],
   "source": [
    "df2 = pd.get_dummies(df1, columns = columns_to_encode)\n",
    "\n",
    "df2.head()"
   ]
  },
  {
   "cell_type": "markdown",
   "metadata": {
    "id": "asmon9vud3T3",
    "papermill": {
     "duration": 0.038899,
     "end_time": "2020-08-27T14:32:40.363751",
     "exception": false,
     "start_time": "2020-08-27T14:32:40.324852",
     "status": "completed"
    },
    "tags": []
   },
   "source": [
    "## Features and Target"
   ]
  },
  {
   "cell_type": "code",
   "execution_count": null,
   "metadata": {
    "execution": {
     "iopub.execute_input": "2020-08-27T14:32:40.451591Z",
     "iopub.status.busy": "2020-08-27T14:32:40.450682Z",
     "iopub.status.idle": "2020-08-27T14:32:40.454852Z",
     "shell.execute_reply": "2020-08-27T14:32:40.454212Z"
    },
    "id": "RT10F2srd0hj",
    "papermill": {
     "duration": 0.051858,
     "end_time": "2020-08-27T14:32:40.454966",
     "exception": false,
     "start_time": "2020-08-27T14:32:40.403108",
     "status": "completed"
    },
    "tags": []
   },
   "outputs": [],
   "source": [
    "features = []\n",
    "for col in df2.columns:\n",
    "  if col != 'fraud_reported':\n",
    "    features.append(col)\n",
    "\n",
    "target = 'fraud_reported'\n",
    "\n",
    "X = df2[features]\n",
    "y = df2[target]"
   ]
  },
  {
   "cell_type": "markdown",
   "metadata": {
    "id": "49ToaIMAc2Bl",
    "papermill": {
     "duration": 0.039737,
     "end_time": "2020-08-27T14:32:40.534390",
     "exception": false,
     "start_time": "2020-08-27T14:32:40.494653",
     "status": "completed"
    },
    "tags": []
   },
   "source": [
    "## Scaling"
   ]
  },
  {
   "cell_type": "code",
   "execution_count": null,
   "metadata": {
    "execution": {
     "iopub.execute_input": "2020-08-27T14:32:40.621536Z",
     "iopub.status.busy": "2020-08-27T14:32:40.620736Z",
     "iopub.status.idle": "2020-08-27T14:32:40.629074Z",
     "shell.execute_reply": "2020-08-27T14:32:40.628537Z"
    },
    "id": "Z652p6nj-fBY",
    "outputId": "576404a2-5c01-42eb-d6cc-00850f0b6052",
    "papermill": {
     "duration": 0.055753,
     "end_time": "2020-08-27T14:32:40.629331",
     "exception": false,
     "start_time": "2020-08-27T14:32:40.573578",
     "status": "completed"
    },
    "tags": []
   },
   "outputs": [],
   "source": [
    "from sklearn.preprocessing import StandardScaler\n",
    "\n",
    "sc = StandardScaler()\n",
    "X = sc.fit_transform(X)"
   ]
  },
  {
   "cell_type": "markdown",
   "metadata": {
    "id": "QULpCGvHfE_T",
    "papermill": {
     "duration": 0.039091,
     "end_time": "2020-08-27T14:32:40.709000",
     "exception": false,
     "start_time": "2020-08-27T14:32:40.669909",
     "status": "completed"
    },
    "tags": []
   },
   "source": [
    "# Modelling"
   ]
  },
  {
   "cell_type": "markdown",
   "metadata": {
    "id": "5kGNhavmfdVy",
    "papermill": {
     "duration": 0.039095,
     "end_time": "2020-08-27T14:32:40.786873",
     "exception": false,
     "start_time": "2020-08-27T14:32:40.747778",
     "status": "completed"
    },
    "tags": []
   },
   "source": [
    "## Splitting in train and test data"
   ]
  },
  {
   "cell_type": "code",
   "execution_count": null,
   "metadata": {
    "execution": {
     "iopub.execute_input": "2020-08-27T14:32:40.874864Z",
     "iopub.status.busy": "2020-08-27T14:32:40.873936Z",
     "iopub.status.idle": "2020-08-27T14:32:40.878786Z",
     "shell.execute_reply": "2020-08-27T14:32:40.877983Z"
    },
    "id": "_2BPlojDfb8j",
    "papermill": {
     "duration": 0.052242,
     "end_time": "2020-08-27T14:32:40.878907",
     "exception": false,
     "start_time": "2020-08-27T14:32:40.826665",
     "status": "completed"
    },
    "tags": []
   },
   "outputs": [],
   "source": [
    "X_train, X_test, y_train, y_test = train_test_split(X, y, random_state = 1)"
   ]
  },
  {
   "cell_type": "markdown",
   "metadata": {
    "id": "vMtEo-utfAMd",
    "papermill": {
     "duration": 0.038674,
     "end_time": "2020-08-27T14:32:40.956248",
     "exception": false,
     "start_time": "2020-08-27T14:32:40.917574",
     "status": "completed"
    },
    "tags": []
   },
   "source": [
    "## Logistic Regression"
   ]
  },
  {
   "cell_type": "code",
   "execution_count": null,
   "metadata": {
    "execution": {
     "iopub.execute_input": "2020-08-27T14:32:41.041069Z",
     "iopub.status.busy": "2020-08-27T14:32:41.039773Z",
     "iopub.status.idle": "2020-08-27T14:32:41.074119Z",
     "shell.execute_reply": "2020-08-27T14:32:41.074835Z"
    },
    "id": "3-eTXtj5-exY",
    "outputId": "31e888e9-0ab7-4cef-a918-46c7f5445869",
    "papermill": {
     "duration": 0.079644,
     "end_time": "2020-08-27T14:32:41.074989",
     "exception": false,
     "start_time": "2020-08-27T14:32:40.995345",
     "status": "completed"
    },
    "tags": []
   },
   "outputs": [],
   "source": [
    "lr = LogisticRegression()\n",
    "\n",
    "lr.fit(X_train, y_train)\n",
    "preds = lr.predict(X_test)\n",
    "\n",
    "score = lr.score(X_test, y_test)\n",
    "print(score)"
   ]
  },
  {
   "cell_type": "code",
   "execution_count": null,
   "metadata": {
    "execution": {
     "iopub.execute_input": "2020-08-27T14:32:41.158319Z",
     "iopub.status.busy": "2020-08-27T14:32:41.157293Z",
     "iopub.status.idle": "2020-08-27T14:32:41.169567Z",
     "shell.execute_reply": "2020-08-27T14:32:41.168749Z"
    },
    "id": "6eB1WS3p-ev4",
    "outputId": "bb9ba97e-69f2-4fda-94ce-d445384a86ac",
    "papermill": {
     "duration": 0.054614,
     "end_time": "2020-08-27T14:32:41.169747",
     "exception": false,
     "start_time": "2020-08-27T14:32:41.115133",
     "status": "completed"
    },
    "tags": []
   },
   "outputs": [],
   "source": [
    "print(classification_report(y_test, preds))"
   ]
  },
  {
   "cell_type": "markdown",
   "metadata": {
    "id": "QcHU4VLgQ2Oz",
    "papermill": {
     "duration": 0.039868,
     "end_time": "2020-08-27T14:32:41.328773",
     "exception": false,
     "start_time": "2020-08-27T14:32:41.288905",
     "status": "completed"
    },
    "tags": []
   },
   "source": [
    "## Synthetic Minority Over-sampling Technique (SMOTE)\n",
    "\n",
    "We saw that our data is not balanced. Therefore, we will apply SMOTE and then predict."
   ]
  },
  {
   "cell_type": "code",
   "execution_count": null,
   "metadata": {
    "execution": {
     "iopub.execute_input": "2020-08-27T14:32:41.412414Z",
     "iopub.status.busy": "2020-08-27T14:32:41.411367Z",
     "iopub.status.idle": "2020-08-27T14:32:41.417382Z",
     "shell.execute_reply": "2020-08-27T14:32:41.416683Z"
    },
    "id": "HsJLQ16D-euD",
    "papermill": {
     "duration": 0.048978,
     "end_time": "2020-08-27T14:32:41.417505",
     "exception": false,
     "start_time": "2020-08-27T14:32:41.368527",
     "status": "completed"
    },
    "tags": []
   },
   "outputs": [],
   "source": [
    "oversample = SMOTE(random_state=9)"
   ]
  },
  {
   "cell_type": "code",
   "execution_count": null,
   "metadata": {
    "execution": {
     "iopub.execute_input": "2020-08-27T14:32:41.502877Z",
     "iopub.status.busy": "2020-08-27T14:32:41.501968Z",
     "iopub.status.idle": "2020-08-27T14:32:42.060229Z",
     "shell.execute_reply": "2020-08-27T14:32:42.060851Z"
    },
    "id": "LYKJz1CBRgdB",
    "papermill": {
     "duration": 0.603983,
     "end_time": "2020-08-27T14:32:42.061049",
     "exception": false,
     "start_time": "2020-08-27T14:32:41.457066",
     "status": "completed"
    },
    "tags": []
   },
   "outputs": [],
   "source": [
    "X_train, X_test, y_train, y_test = train_test_split(X_over, y_over, random_state = 1)"
   ]
  },
  {
   "cell_type": "code",
   "execution_count": null,
   "metadata": {
    "execution": {
     "iopub.execute_input": "2020-08-27T14:32:42.150721Z",
     "iopub.status.busy": "2020-08-27T14:32:42.149901Z",
     "iopub.status.idle": "2020-08-27T14:32:42.166751Z",
     "shell.execute_reply": "2020-08-27T14:32:42.166118Z"
    },
    "id": "qp1KV5sq-erh",
    "outputId": "6632bdc2-f38e-4288-ef65-1bf082626db4",
    "papermill": {
     "duration": 0.063911,
     "end_time": "2020-08-27T14:32:42.166883",
     "exception": false,
     "start_time": "2020-08-27T14:32:42.102972",
     "status": "completed"
    },
    "tags": []
   },
   "outputs": [],
   "source": [
    "X_over, y_over = oversample.fit_resample(X_train, y_train)"
   ]
  },
  {
   "cell_type": "markdown",
   "metadata": {
    "id": "4STaBwK7Y0jE",
    "papermill": {
     "duration": 0.03971,
     "end_time": "2020-08-27T14:32:42.247602",
     "exception": false,
     "start_time": "2020-08-27T14:32:42.207892",
     "status": "completed"
    },
    "tags": []
   },
   "source": [
    "We will use the LogisticRegression we defined earlier"
   ]
  },
  {
   "cell_type": "code",
   "execution_count": null,
   "metadata": {
    "execution": {
     "iopub.execute_input": "2020-08-27T14:32:42.336121Z",
     "iopub.status.busy": "2020-08-27T14:32:42.334922Z",
     "iopub.status.idle": "2020-08-27T14:32:42.364597Z",
     "shell.execute_reply": "2020-08-27T14:32:42.365698Z"
    },
    "id": "CLVhk5xJXZG1",
    "outputId": "eb74b8ce-d622-480a-9218-e85a85fc1032",
    "papermill": {
     "duration": 0.078051,
     "end_time": "2020-08-27T14:32:42.365950",
     "exception": false,
     "start_time": "2020-08-27T14:32:42.287899",
     "status": "completed"
    },
    "tags": []
   },
   "outputs": [],
   "source": [
    "lr.fit(X_train, y_train)\n",
    "preds = lr.predict(X_test)\n",
    "score = lr.score(X_test, y_test)\n",
    "print(score)\n",
    "print()\n",
    "print(classification_report(y_test, preds))"
   ]
  },
  {
   "cell_type": "markdown",
   "metadata": {
    "id": "DQ5dQ3ubbOlk",
    "papermill": {
     "duration": 0.151726,
     "end_time": "2020-08-27T14:32:42.560607",
     "exception": false,
     "start_time": "2020-08-27T14:32:42.408881",
     "status": "completed"
    },
    "tags": []
   },
   "source": [
    "## Decision Tree"
   ]
  },
  {
   "cell_type": "code",
   "execution_count": null,
   "metadata": {
    "execution": {
     "iopub.execute_input": "2020-08-27T14:32:42.653349Z",
     "iopub.status.busy": "2020-08-27T14:32:42.652636Z",
     "iopub.status.idle": "2020-08-27T14:32:42.670851Z",
     "shell.execute_reply": "2020-08-27T14:32:42.670046Z"
    },
    "id": "hhvtT1OOZP58",
    "outputId": "b52dfe4e-7ee4-440d-c417-6137c0cd2394",
    "papermill": {
     "duration": 0.067302,
     "end_time": "2020-08-27T14:32:42.670983",
     "exception": false,
     "start_time": "2020-08-27T14:32:42.603681",
     "status": "completed"
    },
    "tags": []
   },
   "outputs": [],
   "source": [
    "dtc = DecisionTreeClassifier()\n",
    "\n",
    "dtc.fit(X_train, y_train)\n",
    "preds = dtc.predict(X_test)\n",
    "\n",
    "score = dtc.score(X_test, y_test)\n",
    "print(score)\n",
    "print()\n",
    "print(classification_report(y_test, preds))"
   ]
  },
  {
   "cell_type": "markdown",
   "metadata": {
    "papermill": {
     "duration": 0.040431,
     "end_time": "2020-08-27T14:32:42.752485",
     "exception": false,
     "start_time": "2020-08-27T14:32:42.712054",
     "status": "completed"
    },
    "tags": []
   },
   "source": [
    "## There is no improvement"
   ]
  },
  {
   "cell_type": "code",
   "execution_count": null,
   "metadata": {
    "execution": {
     "iopub.execute_input": "2020-08-27T14:32:42.840178Z",
     "iopub.status.busy": "2020-08-27T14:32:42.839334Z",
     "iopub.status.idle": "2020-08-27T14:32:42.842818Z",
     "shell.execute_reply": "2020-08-27T14:32:42.842129Z"
    },
    "id": "3ZUFTEpDcL2l",
    "papermill": {
     "duration": 0.04994,
     "end_time": "2020-08-27T14:32:42.842936",
     "exception": false,
     "start_time": "2020-08-27T14:32:42.792996",
     "status": "completed"
    },
    "tags": []
   },
   "outputs": [],
   "source": [
    "from sklearn.ensemble import RandomForestClassifier"
   ]
  },
  {
   "cell_type": "markdown",
   "metadata": {
    "papermill": {
     "duration": 0.039705,
     "end_time": "2020-08-27T14:32:42.923005",
     "exception": false,
     "start_time": "2020-08-27T14:32:42.883300",
     "status": "completed"
    },
    "tags": []
   },
   "source": [
    "## Random Forest"
   ]
  },
  {
   "cell_type": "code",
   "execution_count": null,
   "metadata": {
    "execution": {
     "iopub.execute_input": "2020-08-27T14:32:43.011692Z",
     "iopub.status.busy": "2020-08-27T14:32:43.010991Z",
     "iopub.status.idle": "2020-08-27T14:32:43.281134Z",
     "shell.execute_reply": "2020-08-27T14:32:43.280551Z"
    },
    "id": "-OxUNcuhrdhe",
    "outputId": "7a2c0fc6-aee0-4bec-f0a7-85d9b0691b6e",
    "papermill": {
     "duration": 0.317356,
     "end_time": "2020-08-27T14:32:43.281285",
     "exception": false,
     "start_time": "2020-08-27T14:32:42.963929",
     "status": "completed"
    },
    "tags": []
   },
   "outputs": [],
   "source": [
    "rfc = RandomForestClassifier(random_state = 1)\n",
    "rfc.fit(X_train, y_train)"
   ]
  },
  {
   "cell_type": "code",
   "execution_count": null,
   "metadata": {
    "execution": {
     "iopub.execute_input": "2020-08-27T14:32:43.371859Z",
     "iopub.status.busy": "2020-08-27T14:32:43.370662Z",
     "iopub.status.idle": "2020-08-27T14:32:43.408285Z",
     "shell.execute_reply": "2020-08-27T14:32:43.407692Z"
    },
    "id": "x5ejJI2lrvrh",
    "outputId": "682b0d3c-7ea8-43d0-d4cb-c9c9dc063500",
    "papermill": {
     "duration": 0.086428,
     "end_time": "2020-08-27T14:32:43.408450",
     "exception": false,
     "start_time": "2020-08-27T14:32:43.322022",
     "status": "completed"
    },
    "tags": []
   },
   "outputs": [],
   "source": [
    "preds = rfc.predict(X_test)\n",
    "\n",
    "score = rfc.score(X_test, y_test)\n",
    "print(score*100)\n",
    "print()\n",
    "print(classification_report(y_test, preds))"
   ]
  },
  {
   "cell_type": "code",
   "execution_count": null,
   "metadata": {
    "execution": {
     "iopub.execute_input": "2020-08-27T14:32:43.580342Z",
     "iopub.status.busy": "2020-08-27T14:32:43.579581Z",
     "iopub.status.idle": "2020-08-27T14:32:43.677753Z",
     "shell.execute_reply": "2020-08-27T14:32:43.678355Z"
    },
    "papermill": {
     "duration": 0.146513,
     "end_time": "2020-08-27T14:32:43.678525",
     "exception": false,
     "start_time": "2020-08-27T14:32:43.532012",
     "status": "completed"
    },
    "tags": []
   },
   "outputs": [],
   "source": [
    "#implementing \n",
    "\n",
    "svc = SVC(kernel='linear')\n",
    "svc.fit(X_train, y_train)\n",
    "\n",
    "preds = svc.predict(X_test)\n",
    "\n",
    "print('Score:' , svc.score(X_test, y_test))\n",
    "print('Classification report:', classification_report(y_test, preds))"
   ]
  },
  {
   "cell_type": "markdown",
   "metadata": {
    "papermill": {
     "duration": 0.04187,
     "end_time": "2020-08-27T14:32:43.845681",
     "exception": false,
     "start_time": "2020-08-27T14:32:43.803811",
     "status": "completed"
    },
    "tags": []
   },
   "source": [
    "# Hyperparameter Tuning"
   ]
  },
  {
   "cell_type": "code",
   "execution_count": null,
   "metadata": {
    "execution": {
     "iopub.execute_input": "2020-08-27T14:32:44.015033Z",
     "iopub.status.busy": "2020-08-27T14:32:44.014286Z",
     "iopub.status.idle": "2020-08-27T14:32:44.017846Z",
     "shell.execute_reply": "2020-08-27T14:32:44.017313Z"
    },
    "papermill": {
     "duration": 0.049788,
     "end_time": "2020-08-27T14:32:44.017968",
     "exception": false,
     "start_time": "2020-08-27T14:32:43.968180",
     "status": "completed"
    },
    "tags": []
   },
   "outputs": [],
   "source": [
    "degrees = [2,3,4,5,6,7,8]\n",
    "kernels = ['poly', 'rbf', 'sigmoid']\n",
    "c_value = [1,2,3]"
   ]
  },
  {
   "cell_type": "code",
   "execution_count": null,
   "metadata": {
    "execution": {
     "iopub.execute_input": "2020-08-27T14:32:44.109866Z",
     "iopub.status.busy": "2020-08-27T14:32:44.109167Z",
     "iopub.status.idle": "2020-08-27T14:32:48.898696Z",
     "shell.execute_reply": "2020-08-27T14:32:48.898064Z"
    },
    "papermill": {
     "duration": 4.839664,
     "end_time": "2020-08-27T14:32:48.898831",
     "exception": false,
     "start_time": "2020-08-27T14:32:44.059167",
     "status": "completed"
    },
    "tags": []
   },
   "outputs": [],
   "source": [
    "scores = {}\n",
    "for degree in degrees:\n",
    "    for kernel in kernels:\n",
    "        for c in c_value:\n",
    "            svc_t = SVC(kernel = kernel, degree = degree, C = c)\n",
    "            svc_t.fit(X_train, y_train)\n",
    "            \n",
    "            preds = svc_t.predict(X_test)\n",
    "            score = svc_t.score(X_test,y_test)\n",
    "#             print('Score with degree as {d}, kernel as {k}, C as {c} is:'.format(d = degree, k = kernel, c = c), score)\n",
    "            scores['Score with degree as {d}, kernel as {k}, C as {c} is best'.format(d = degree, k = kernel, c = c)] = score\n",
    "\n",
    "print(max(scores, key=scores.get))"
   ]
  },
  {
   "cell_type": "code",
   "execution_count": null,
   "metadata": {
    "execution": {
     "iopub.execute_input": "2020-08-27T14:32:48.991426Z",
     "iopub.status.busy": "2020-08-27T14:32:48.990671Z",
     "iopub.status.idle": "2020-08-27T14:32:49.057661Z",
     "shell.execute_reply": "2020-08-27T14:32:49.058219Z"
    },
    "papermill": {
     "duration": 0.117546,
     "end_time": "2020-08-27T14:32:49.058380",
     "exception": false,
     "start_time": "2020-08-27T14:32:48.940834",
     "status": "completed"
    },
    "tags": []
   },
   "outputs": [],
   "source": [
    "svc_tuned = SVC(kernel='sigmoid', degree = 2, C = 3)\n",
    "svc_tuned.fit(X_train, y_train)\n",
    "\n",
    "preds = svc_tuned.predict(X_test)\n",
    "\n",
    "print('Score:' , svc_tuned.score(X_test, y_test))\n",
    "print('Classification report:', classification_report(y_test, preds))"
   ]
  },
  {
   "cell_type": "code",
   "execution_count": null,
   "metadata": {
    "execution": {
     "iopub.execute_input": "2020-08-27T14:32:49.241801Z",
     "iopub.status.busy": "2020-08-27T14:32:49.240537Z",
     "iopub.status.idle": "2020-08-27T14:32:52.190126Z",
     "shell.execute_reply": "2020-08-27T14:32:52.190984Z"
    },
    "papermill": {
     "duration": 3.007672,
     "end_time": "2020-08-27T14:32:52.191217",
     "exception": false,
     "start_time": "2020-08-27T14:32:49.183545",
     "status": "completed"
    },
    "tags": []
   },
   "outputs": [],
   "source": [
    "rfc_tuned = RandomForestClassifier(n_estimators = 1000, random_state = 1, min_samples_split = 2)\n",
    "rfc_tuned.fit(X_train, y_train)\n",
    "preds_tuned = rfc_tuned.predict(X_test)\n",
    "score = rfc_tuned.score(X_test, y_test)\n",
    "print(score)"
   ]
  },
  {
   "cell_type": "markdown",
   "metadata": {
    "papermill": {
     "duration": 0.041705,
     "end_time": "2020-08-27T14:32:52.365050",
     "exception": false,
     "start_time": "2020-08-27T14:32:52.323345",
     "status": "completed"
    },
    "tags": []
   },
   "source": [
    "## GridSearch"
   ]
  },
  {
   "cell_type": "code",
   "execution_count": null,
   "metadata": {
    "execution": {
     "iopub.execute_input": "2020-08-27T14:32:52.459530Z",
     "iopub.status.busy": "2020-08-27T14:32:52.458792Z",
     "iopub.status.idle": "2020-08-27T14:46:06.198454Z",
     "shell.execute_reply": "2020-08-27T14:46:06.197802Z"
    },
    "id": "aKgfReiwavIG",
    "papermill": {
     "duration": 793.791005,
     "end_time": "2020-08-27T14:46:06.198596",
     "exception": false,
     "start_time": "2020-08-27T14:32:52.407591",
     "status": "completed"
    },
    "tags": []
   },
   "outputs": [],
   "source": [
    "n_estimators = [100, 300, 500, 800, 1200]\n",
    "max_depth = [5, 8, 15, 25, 30]\n",
    "min_samples_split = [2, 5, 10, 15, 100]\n",
    "min_samples_leaf = [1, 2, 5, 10] \n",
    "\n",
    "hyper = dict(n_estimators = n_estimators, max_depth = max_depth,  \n",
    "              min_samples_split = min_samples_split, \n",
    "             min_samples_leaf = min_samples_leaf)\n",
    "\n",
    "grid = GridSearchCV(rfc, hyper, cv = 3, verbose = 1, \n",
    "                      n_jobs = -1)\n",
    "best = grid.fit(X_train, y_train)"
   ]
  },
  {
   "cell_type": "code",
   "execution_count": null,
   "metadata": {
    "execution": {
     "iopub.execute_input": "2020-08-27T14:46:06.300713Z",
     "iopub.status.busy": "2020-08-27T14:46:06.299863Z",
     "iopub.status.idle": "2020-08-27T14:46:06.303837Z",
     "shell.execute_reply": "2020-08-27T14:46:06.304385Z"
    },
    "papermill": {
     "duration": 0.059489,
     "end_time": "2020-08-27T14:46:06.304562",
     "exception": false,
     "start_time": "2020-08-27T14:46:06.245073",
     "status": "completed"
    },
    "tags": []
   },
   "outputs": [],
   "source": [
    "print(best)"
   ]
  },
  {
   "cell_type": "markdown",
   "metadata": {
    "papermill": {
     "duration": 0.041761,
     "end_time": "2020-08-27T14:46:06.390997",
     "exception": false,
     "start_time": "2020-08-27T14:46:06.349236",
     "status": "completed"
    },
    "tags": []
   },
   "source": [
    "Using the best parameters from GridSearch"
   ]
  },
  {
   "cell_type": "code",
   "execution_count": null,
   "metadata": {
    "execution": {
     "iopub.execute_input": "2020-08-27T14:46:06.490830Z",
     "iopub.status.busy": "2020-08-27T14:46:06.490037Z",
     "iopub.status.idle": "2020-08-27T14:46:06.778286Z",
     "shell.execute_reply": "2020-08-27T14:46:06.777717Z"
    },
    "id": "JK92en53iXzb",
    "outputId": "8660931d-b8cd-430b-c79c-3046085c884e",
    "papermill": {
     "duration": 0.345723,
     "end_time": "2020-08-27T14:46:06.778415",
     "exception": false,
     "start_time": "2020-08-27T14:46:06.432692",
     "status": "completed"
    },
    "tags": []
   },
   "outputs": [],
   "source": [
    "rfc_tuned = RandomForestClassifier(bootstrap=True, ccp_alpha=0.0,\n",
    "                                              class_weight=None,\n",
    "                                              criterion='gini', max_depth=None,\n",
    "                                              max_features='auto',\n",
    "                                              max_leaf_nodes=None,\n",
    "                                              max_samples=None,\n",
    "                                              min_impurity_decrease=0.0,\n",
    "                                              min_impurity_split=None,\n",
    "                                              min_samples_leaf=1,\n",
    "                                              min_samples_split=2,\n",
    "                                              min_weight_fraction_leaf=0.0,\n",
    "                                              n_estimators=100, n_jobs=None,\n",
    "                                              oob_score=False, random_state=1,\n",
    "                                              verbose=0, warm_start=False)\n",
    "\n",
    "rfc_tuned.fit(X_train, y_train)\n",
    "preds_tuned = rfc_tuned.predict(X_test)\n",
    "\n",
    "score = rfc_tuned.score(X_test, y_test)\n",
    "\n",
    "print(score)"
   ]
  }
 ],
 "metadata": {
  "kernelspec": {
   "display_name": "Python 3",
   "language": "python",
   "name": "python3"
  },
  "language_info": {
   "codemirror_mode": {
    "name": "ipython",
    "version": 3
   },
   "file_extension": ".py",
   "mimetype": "text/x-python",
   "name": "python",
   "nbconvert_exporter": "python",
   "pygments_lexer": "ipython3",
   "version": "3.8.8"
  },
  "papermill": {
   "duration": 828.493667,
   "end_time": "2020-08-27T14:46:07.014720",
   "environment_variables": {},
   "exception": null,
   "input_path": "__notebook__.ipynb",
   "output_path": "__notebook__.ipynb",
   "parameters": {},
   "start_time": "2020-08-27T14:32:18.521053",
   "version": "2.1.0"
  }
 },
 "nbformat": 4,
 "nbformat_minor": 4
}
